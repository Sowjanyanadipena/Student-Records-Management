{
  "nbformat": 4,
  "nbformat_minor": 0,
  "metadata": {
    "colab": {
      "provenance": []
    },
    "kernelspec": {
      "name": "python3",
      "display_name": "Python 3"
    },
    "language_info": {
      "name": "python"
    }
  },
  "cells": [
    {
      "cell_type": "code",
      "execution_count": 1,
      "metadata": {
        "colab": {
          "base_uri": "https://localhost:8080/"
        },
        "id": "8UxNLOoj-NX6",
        "outputId": "e850a395-8964-442d-9f4c-9af9ded2a4a6"
      },
      "outputs": [
        {
          "output_type": "stream",
          "name": "stdout",
          "text": [
            "✅ Database and table ready!\n"
          ]
        }
      ],
      "source": [
        "import sqlite3\n",
        "\n",
        "# Connect to SQLite (creates file if it doesn't exist)\n",
        "conn = sqlite3.connect(\"student_records.db\")\n",
        "cursor = conn.cursor()\n",
        "\n",
        "# Create table if not exists\n",
        "cursor.execute(\"\"\"\n",
        "CREATE TABLE IF NOT EXISTS students (\n",
        "    id INTEGER PRIMARY KEY AUTOINCREMENT,\n",
        "    name TEXT NOT NULL,\n",
        "    roll_no TEXT UNIQUE NOT NULL,\n",
        "    department TEXT,\n",
        "    marks REAL\n",
        ")\n",
        "\"\"\")\n",
        "conn.commit()\n",
        "print(\"✅ Database and table ready!\")\n"
      ]
    },
    {
      "cell_type": "code",
      "source": [
        "def add_student(name, roll_no, department, marks):\n",
        "    try:\n",
        "        cursor.execute(\"INSERT INTO students (name, roll_no, department, marks) VALUES (?, ?, ?, ?)\",\n",
        "                       (name, roll_no, department, marks))\n",
        "        conn.commit()\n",
        "        print(f\"✅ Student {name} added successfully!\")\n",
        "    except sqlite3.IntegrityError:\n",
        "        print(\"⚠ Roll number already exists!\")\n",
        "\n",
        "def view_students():\n",
        "    cursor.execute(\"SELECT * FROM students\")\n",
        "    rows = cursor.fetchall()\n",
        "    if rows:\n",
        "        print(\"\\n📋 Student Records:\")\n",
        "        for row in rows:\n",
        "            print(row)\n",
        "    else:\n",
        "        print(\"⚠ No records found!\")\n",
        "\n",
        "def update_student(roll_no, new_marks):\n",
        "    cursor.execute(\"UPDATE students SET marks = ? WHERE roll_no = ?\", (new_marks, roll_no))\n",
        "    conn.commit()\n",
        "    if cursor.rowcount:\n",
        "        print(f\"✅ Updated marks for Roll No: {roll_no}\")\n",
        "    else:\n",
        "        print(\"⚠ Student not found!\")\n",
        "\n",
        "def delete_student(roll_no):\n",
        "    cursor.execute(\"DELETE FROM students WHERE roll_no = ?\", (roll_no,))\n",
        "    conn.commit()\n",
        "    if cursor.rowcount:\n",
        "        print(f\"🗑 Deleted student with Roll No: {roll_no}\")\n",
        "    else:\n",
        "        print(\"⚠ Student not found!\")\n"
      ],
      "metadata": {
        "id": "JFKkSEZp-bpS"
      },
      "execution_count": 3,
      "outputs": []
    },
    {
      "cell_type": "code",
      "source": [
        "# Add students\n",
        "add_student(\"Alice\", \"CSE101\", \"CSE\", 88.5)\n",
        "add_student(\"Bob\", \"ECE102\", \"ECE\", 75.0)\n",
        "add_student(\"Charlie\", \"ME103\", \"Mechanical\", 92.0)\n",
        "\n",
        "# View all students\n",
        "view_students()\n",
        "\n",
        "# Update student marks\n",
        "update_student(\"CSE101\", 90.0)\n",
        "\n",
        "# Delete a student\n",
        "delete_student(\"ECE102\")\n",
        "\n",
        "# View again\n",
        "view_students()\n"
      ],
      "metadata": {
        "colab": {
          "base_uri": "https://localhost:8080/"
        },
        "id": "8bhX6cAU-kls",
        "outputId": "c8632dd1-b3d8-44c7-ea49-56ba1851e8fd"
      },
      "execution_count": 4,
      "outputs": [
        {
          "output_type": "stream",
          "name": "stdout",
          "text": [
            "✅ Student Alice added successfully!\n",
            "✅ Student Bob added successfully!\n",
            "✅ Student Charlie added successfully!\n",
            "\n",
            "📋 Student Records:\n",
            "(1, 'Alice', 'CSE101', 'CSE', 88.5)\n",
            "(2, 'Bob', 'ECE102', 'ECE', 75.0)\n",
            "(3, 'Charlie', 'ME103', 'Mechanical', 92.0)\n",
            "✅ Updated marks for Roll No: CSE101\n",
            "🗑 Deleted student with Roll No: ECE102\n",
            "\n",
            "📋 Student Records:\n",
            "(1, 'Alice', 'CSE101', 'CSE', 90.0)\n",
            "(3, 'Charlie', 'ME103', 'Mechanical', 92.0)\n"
          ]
        }
      ]
    },
    {
      "cell_type": "code",
      "source": [
        "import pandas as pd\n",
        "import matplotlib.pyplot as plt\n",
        "\n",
        "# Load data into Pandas DataFrame\n",
        "df = pd.read_sql_query(\"SELECT * FROM students\", conn)\n",
        "\n",
        "if not df.empty:\n",
        "    print(\"\\n📊 Students Data:\\n\", df)\n",
        "\n",
        "    # Bar chart: Marks by Student\n",
        "    plt.bar(df['name'], df['marks'], color='skyblue')\n",
        "    plt.title(\"Marks by Student\")\n",
        "    plt.xlabel(\"Student Name\")\n",
        "    plt.ylabel(\"Marks\")\n",
        "    plt.show()\n",
        "else:\n",
        "    print(\"⚠ No data for analytics!\")\n"
      ],
      "metadata": {
        "colab": {
          "base_uri": "https://localhost:8080/",
          "height": 559
        },
        "id": "ic7DMnqt-v_D",
        "outputId": "f3eeed42-c0f0-4235-b6e4-d12a25691d22"
      },
      "execution_count": 5,
      "outputs": [
        {
          "output_type": "stream",
          "name": "stdout",
          "text": [
            "\n",
            "📊 Students Data:\n",
            "    id     name roll_no  department  marks\n",
            "0   1    Alice  CSE101         CSE   90.0\n",
            "1   3  Charlie   ME103  Mechanical   92.0\n"
          ]
        },
        {
          "output_type": "display_data",
          "data": {
            "text/plain": [
              "<Figure size 640x480 with 1 Axes>"
            ],
            "image/png": "[encoded data removed]"
          },
          "metadata": {}
        }
      ]
    }
  ]
}